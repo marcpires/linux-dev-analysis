{
  "nbformat": 4,
  "nbformat_minor": 0,
  "metadata": {
    "colab": {
      "name": "GitAnalisys.ipynb",
      "provenance": [],
      "authorship_tag": "ABX9TyOPy0f08lEY5RQOJHx4rE+b"
    },
    "kernelspec": {
      "name": "python3",
      "display_name": "Python 3"
    },
    "language_info": {
      "name": "python"
    }
  },
  "cells": [
    {
      "cell_type": "markdown",
      "metadata": {
        "id": "j7EQ_1TVuN1x"
      },
      "source": [
        "# Analysing GIT history data with Pandas\n",
        "\n",
        "Looking at the development history to answer some questions\n",
        "\n",
        "* top 10 authors\n",
        "* where the developers come from\n",
        "* on which weekdays the developers work\n",
        "* what the normal working hours are and\n",
        "* if there is any sight of overtime periods.\n",
        "\n",
        "> **Get Data**\n",
        "\n",
        "> *git log --pretty=\"%ad,%aN\" --no-merges > git_timestamp_linux.csv*"
      ]
    },
    {
      "cell_type": "code",
      "metadata": {
        "id": "4zPto5aayUtu"
      },
      "source": [
        ""
      ],
      "execution_count": null,
      "outputs": []
    }
  ]
}